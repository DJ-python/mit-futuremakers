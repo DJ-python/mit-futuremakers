{
  "nbformat": 4,
  "nbformat_minor": 0,
  "metadata": {
    "colab": {
      "name": "UpSampling2DPractice.ipynb",
      "provenance": [],
      "authorship_tag": "ABX9TyPaFQ879LZIp4MtpqTmNbJh",
      "include_colab_link": true
    },
    "kernelspec": {
      "name": "python3",
      "display_name": "Python 3"
    },
    "language_info": {
      "name": "python"
    }
  },
  "cells": [
    {
      "cell_type": "markdown",
      "metadata": {
        "id": "view-in-github",
        "colab_type": "text"
      },
      "source": [
        "<a href=\"https://colab.research.google.com/github/DJ-python/mit-futuremakers/blob/main/Daily%20Practice/UpSampling2DPractice.ipynb\" target=\"_parent\"><img src=\"https://colab.research.google.com/assets/colab-badge.svg\" alt=\"Open In Colab\"/></a>"
      ]
    },
    {
      "cell_type": "code",
      "metadata": {
        "colab": {
          "base_uri": "https://localhost:8080/"
        },
        "id": "OYRxJFlzIzg-",
        "outputId": "5b11bf8e-fc17-493f-d006-54958f8b8116"
      },
      "source": [
        "from numpy import asarray\n",
        "from keras.models import Sequential\n",
        "from keras.layers import UpSampling2D\n",
        "\n",
        "X = asarray([[4, 7],\n",
        "\t\t\t [9, 14]])\n",
        "print(X)\n",
        "\n",
        "X = X.reshape((1, 2, 2, 1))\n",
        "\n",
        "model = Sequential()\n",
        "model.add(UpSampling2D(input_shape=(2, 2, 1)))\n",
        "model.add(UpSampling2D(size = (4,4)))\n",
        "\n",
        "model.summary()\n",
        "\n",
        "yhat = model.predict(X)\n",
        "\n",
        "yhat = yhat.reshape((16, 16))\n",
        "\n",
        "print(yhat)"
      ],
      "execution_count": 18,
      "outputs": [
        {
          "output_type": "stream",
          "text": [
            "[[ 4  7]\n",
            " [ 9 14]]\n",
            "Model: \"sequential_9\"\n",
            "_________________________________________________________________\n",
            "Layer (type)                 Output Shape              Param #   \n",
            "=================================================================\n",
            "up_sampling2d_10 (UpSampling (None, 4, 4, 1)           0         \n",
            "_________________________________________________________________\n",
            "up_sampling2d_11 (UpSampling (None, 16, 16, 1)         0         \n",
            "=================================================================\n",
            "Total params: 0\n",
            "Trainable params: 0\n",
            "Non-trainable params: 0\n",
            "_________________________________________________________________\n",
            "WARNING:tensorflow:6 out of the last 6 calls to <function Model.make_predict_function.<locals>.predict_function at 0x7f2e09e797a0> triggered tf.function retracing. Tracing is expensive and the excessive number of tracings could be due to (1) creating @tf.function repeatedly in a loop, (2) passing tensors with different shapes, (3) passing Python objects instead of tensors. For (1), please define your @tf.function outside of the loop. For (2), @tf.function has experimental_relax_shapes=True option that relaxes argument shapes that can avoid unnecessary retracing. For (3), please refer to https://www.tensorflow.org/guide/function#controlling_retracing and https://www.tensorflow.org/api_docs/python/tf/function for  more details.\n",
            "[[ 4.  4.  4.  4.  4.  4.  4.  4.  7.  7.  7.  7.  7.  7.  7.  7.]\n",
            " [ 4.  4.  4.  4.  4.  4.  4.  4.  7.  7.  7.  7.  7.  7.  7.  7.]\n",
            " [ 4.  4.  4.  4.  4.  4.  4.  4.  7.  7.  7.  7.  7.  7.  7.  7.]\n",
            " [ 4.  4.  4.  4.  4.  4.  4.  4.  7.  7.  7.  7.  7.  7.  7.  7.]\n",
            " [ 4.  4.  4.  4.  4.  4.  4.  4.  7.  7.  7.  7.  7.  7.  7.  7.]\n",
            " [ 4.  4.  4.  4.  4.  4.  4.  4.  7.  7.  7.  7.  7.  7.  7.  7.]\n",
            " [ 4.  4.  4.  4.  4.  4.  4.  4.  7.  7.  7.  7.  7.  7.  7.  7.]\n",
            " [ 4.  4.  4.  4.  4.  4.  4.  4.  7.  7.  7.  7.  7.  7.  7.  7.]\n",
            " [ 9.  9.  9.  9.  9.  9.  9.  9. 14. 14. 14. 14. 14. 14. 14. 14.]\n",
            " [ 9.  9.  9.  9.  9.  9.  9.  9. 14. 14. 14. 14. 14. 14. 14. 14.]\n",
            " [ 9.  9.  9.  9.  9.  9.  9.  9. 14. 14. 14. 14. 14. 14. 14. 14.]\n",
            " [ 9.  9.  9.  9.  9.  9.  9.  9. 14. 14. 14. 14. 14. 14. 14. 14.]\n",
            " [ 9.  9.  9.  9.  9.  9.  9.  9. 14. 14. 14. 14. 14. 14. 14. 14.]\n",
            " [ 9.  9.  9.  9.  9.  9.  9.  9. 14. 14. 14. 14. 14. 14. 14. 14.]\n",
            " [ 9.  9.  9.  9.  9.  9.  9.  9. 14. 14. 14. 14. 14. 14. 14. 14.]\n",
            " [ 9.  9.  9.  9.  9.  9.  9.  9. 14. 14. 14. 14. 14. 14. 14. 14.]]\n"
          ],
          "name": "stdout"
        }
      ]
    },
    {
      "cell_type": "code",
      "metadata": {
        "colab": {
          "base_uri": "https://localhost:8080/"
        },
        "id": "--7-4TDhLRnC",
        "outputId": "f99cef8f-b519-4000-d749-1a710dab75d1"
      },
      "source": [
        "from keras.models import Sequential\n",
        "from keras.layers import Dense\n",
        "from keras.layers import Reshape\n",
        "from keras.layers import UpSampling2D\n",
        "from keras.layers import Conv2D\n",
        "\n",
        "model = Sequential()\n",
        "model.add(Dense(128 * 5 * 5, input_dim=100))\n",
        "model.add(Reshape((5, 5, 128)))\n",
        "model.add(UpSampling2D())\n",
        "model.add(Conv2D(1, (3,3), padding='same'))\n",
        "\n",
        "model.summary()"
      ],
      "execution_count": 19,
      "outputs": [
        {
          "output_type": "stream",
          "text": [
            "Model: \"sequential_10\"\n",
            "_________________________________________________________________\n",
            "Layer (type)                 Output Shape              Param #   \n",
            "=================================================================\n",
            "dense (Dense)                (None, 3200)              323200    \n",
            "_________________________________________________________________\n",
            "reshape (Reshape)            (None, 5, 5, 128)         0         \n",
            "_________________________________________________________________\n",
            "up_sampling2d_12 (UpSampling (None, 10, 10, 128)       0         \n",
            "_________________________________________________________________\n",
            "conv2d (Conv2D)              (None, 10, 10, 1)         1153      \n",
            "=================================================================\n",
            "Total params: 324,353\n",
            "Trainable params: 324,353\n",
            "Non-trainable params: 0\n",
            "_________________________________________________________________\n"
          ],
          "name": "stdout"
        }
      ]
    },
    {
      "cell_type": "code",
      "metadata": {
        "colab": {
          "base_uri": "https://localhost:8080/"
        },
        "id": "5lwl39h-MkIG",
        "outputId": "33ce10ce-55ff-49c5-f9b9-e62034943f22"
      },
      "source": [
        "# example of using the transpose convolutional layer\n",
        "from numpy import asarray\n",
        "from keras.models import Sequential\n",
        "from keras.layers import Conv2DTranspose\n",
        "\n",
        "X = asarray([[21, 32],\n",
        "\t\t\t [33, 46]])\n",
        "\n",
        "print(X)\n",
        "\n",
        "X = X.reshape((1, 2, 2, 1))\n",
        "\n",
        "model = Sequential()\n",
        "model.add(Conv2DTranspose(1, (1,1), strides=(2,2), input_shape=(2, 2, 1)))\n",
        "model.summary()\n",
        "weights = [asarray([[[[1]]]]), asarray([0])]\n",
        "model.set_weights(weights)\n",
        "yhat = model.predict(X)\n",
        "yhat = yhat.reshape((4, 4))\n",
        "print(yhat)"
      ],
      "execution_count": 20,
      "outputs": [
        {
          "output_type": "stream",
          "text": [
            "[[21 32]\n",
            " [33 46]]\n",
            "Model: \"sequential_11\"\n",
            "_________________________________________________________________\n",
            "Layer (type)                 Output Shape              Param #   \n",
            "=================================================================\n",
            "conv2d_transpose (Conv2DTran (None, 4, 4, 1)           2         \n",
            "=================================================================\n",
            "Total params: 2\n",
            "Trainable params: 2\n",
            "Non-trainable params: 0\n",
            "_________________________________________________________________\n",
            "[[21.  0. 32.  0.]\n",
            " [ 0.  0.  0.  0.]\n",
            " [33.  0. 46.  0.]\n",
            " [ 0.  0.  0.  0.]]\n"
          ],
          "name": "stdout"
        }
      ]
    },
    {
      "cell_type": "code",
      "metadata": {
        "colab": {
          "base_uri": "https://localhost:8080/"
        },
        "id": "y7Jaog6lNUfH",
        "outputId": "ddb34d71-d453-4cda-f479-1c4afeb22e8f"
      },
      "source": [
        "from keras.models import Sequential\n",
        "from keras.layers import Dense\n",
        "from keras.layers import Reshape\n",
        "from keras.layers import Conv2DTranspose\n",
        "from keras.layers import Conv2D\n",
        "\n",
        "model = Sequential()\n",
        "model.add(Dense(128 * 5 * 5, input_dim=100))\n",
        "model.add(Reshape((5, 5, 128)))\n",
        "model.add(Conv2DTranspose(1, (3,3), strides=(2,2), padding='same'))\n",
        "model.summary()"
      ],
      "execution_count": 21,
      "outputs": [
        {
          "output_type": "stream",
          "text": [
            "Model: \"sequential_12\"\n",
            "_________________________________________________________________\n",
            "Layer (type)                 Output Shape              Param #   \n",
            "=================================================================\n",
            "dense_1 (Dense)              (None, 3200)              323200    \n",
            "_________________________________________________________________\n",
            "reshape_1 (Reshape)          (None, 5, 5, 128)         0         \n",
            "_________________________________________________________________\n",
            "conv2d_transpose_1 (Conv2DTr (None, 10, 10, 1)         1153      \n",
            "=================================================================\n",
            "Total params: 324,353\n",
            "Trainable params: 324,353\n",
            "Non-trainable params: 0\n",
            "_________________________________________________________________\n"
          ],
          "name": "stdout"
        }
      ]
    }
  ]
}