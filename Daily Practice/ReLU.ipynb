{
 "cells": [
  {
   "cell_type": "code",
   "execution_count": 1,
   "id": "0f884df7",
   "metadata": {},
   "outputs": [],
   "source": [
    "def rectified(x):\n",
    "    return max(0.0, x)"
   ]
  },
  {
   "cell_type": "code",
   "execution_count": 3,
   "id": "385c523a",
   "metadata": {},
   "outputs": [
    {
     "name": "stdout",
     "output_type": "stream",
     "text": [
      "rectified(1.0) is 1.0\n",
      "rectified(100.0) is 100.0\n",
      "rectified(0.0) is 0.0\n",
      "rectified(-10.0) is 0.0\n",
      "rectified(-2000.0) is 0.0\n"
     ]
    }
   ],
   "source": [
    "x = 1.0\n",
    "print('rectified(%.1f) is %.1f' % (x, rectified(x)))\n",
    "x = 100.0\n",
    "print('rectified(%.1f) is %.1f' % (x, rectified(x)))\n",
    "x = 0.0\n",
    "print('rectified(%.1f) is %.1f' % (x, rectified(x)))\n",
    "x = -10.0\n",
    "print('rectified(%.1f) is %.1f' % (x, rectified(x)))\n",
    "x = -2000.0\n",
    "print('rectified(%.1f) is %.1f' % (x, rectified(x)))"
   ]
  },
  {
   "cell_type": "code",
   "execution_count": 4,
   "id": "3ef26804",
   "metadata": {},
   "outputs": [
    {
     "data": {
      "image/png": "[encoded data removed]",
      "text/plain": [
       "<Figure size 432x288 with 1 Axes>"
      ]
     },
     "metadata": {
      "needs_background": "light"
     },
     "output_type": "display_data"
    }
   ],
   "source": [
    "from matplotlib import pyplot\n",
    " \n",
    "series_in = [x for x in range(-20, 21)]\n",
    "series_out = [rectified(x) for x in series_in]\n",
    "pyplot.plot(series_in, series_out)\n",
    "pyplot.show()"
   ]
  },
  {
   "cell_type": "code",
   "execution_count": null,
   "id": "e1ac1f88",
   "metadata": {},
   "outputs": [],
   "source": []
  }
 ],
 "metadata": {
  "kernelspec": {
   "display_name": "Python 3",
   "language": "python",
   "name": "python3"
  },
  "language_info": {
   "codemirror_mode": {
    "name": "ipython",
    "version": 3
   },
   "file_extension": ".py",
   "mimetype": "text/x-python",
   "name": "python",
   "nbconvert_exporter": "python",
   "pygments_lexer": "ipython3",
   "version": "3.8.8"
  }
 },
 "nbformat": 4,
 "nbformat_minor": 5
}
