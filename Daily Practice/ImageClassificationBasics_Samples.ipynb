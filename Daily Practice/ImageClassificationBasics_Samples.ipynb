{
  "nbformat": 4,
  "nbformat_minor": 0,
  "metadata": {
    "colab": {
      "name": "ImageClassificationBasics_Samples.ipynb",
      "provenance": [],
      "authorship_tag": "ABX9TyPLU9AZR92EW5gEsZnJBSNL",
      "include_colab_link": true
    },
    "kernelspec": {
      "name": "python3",
      "display_name": "Python 3"
    },
    "language_info": {
      "name": "python"
    }
  },
  "cells": [
    {
      "cell_type": "markdown",
      "metadata": {
        "id": "view-in-github",
        "colab_type": "text"
      },
      "source": [
        "<a href=\"https://colab.research.google.com/github/DJ-python/mit-futuremakers/blob/main/Daily%20Practice/ImageClassificationBasics_Samples.ipynb\" target=\"_parent\"><img src=\"https://colab.research.google.com/assets/colab-badge.svg\" alt=\"Open In Colab\"/></a>"
      ]
    },
    {
      "cell_type": "code",
      "metadata": {
        "id": "RB5FX1x_dQjx"
      },
      "source": [
        "# store the path to our image dataset into a variable, then create a function to load folders containing images into arrays \n",
        "#Sample code for reading an image dataset with 2 classes\n",
        "from pathlib import Path\n",
        "import glob\n",
        "import cv2\n",
        "import pandas as pd\n",
        "from scipy import ndimage\n",
        "\n",
        "# reading images from path\n",
        "images_dir = Path('img')\n",
        "images = images_dir.glob(\"*.tif\")\n",
        "\n",
        "train_data = []\n",
        "\n",
        "counter = 0\n",
        "for img in images:\n",
        "  counter += 1\n",
        "  if counter <= 130:\n",
        "    train_data.append((img,1))\n",
        "  else:\n",
        "    train_data.append((img,0))\n",
        " \n",
        "# converting data into pandas dataframe for easy visualization \n",
        "train_data = pd.DataFrame(train_data,columns=['image','label'],index = None)"
      ],
      "execution_count": 22,
      "outputs": []
    },
    {
      "cell_type": "code",
      "metadata": {
        "colab": {
          "base_uri": "https://localhost:8080/"
        },
        "id": "2FNKjKxkiM5H",
        "outputId": "88f8b3ef-2613-4a91-e77a-8b59bb530942"
      },
      "source": [
        "train_data.size"
      ],
      "execution_count": 23,
      "outputs": [
        {
          "output_type": "execute_result",
          "data": {
            "text/plain": [
              "0"
            ]
          },
          "metadata": {
            "tags": []
          },
          "execution_count": 23
        }
      ]
    },
    {
      "cell_type": "code",
      "metadata": {
        "colab": {
          "base_uri": "https://localhost:8080/",
          "height": 137
        },
        "id": "54R5iyGLdqEd",
        "outputId": "0ff17a51-82b3-4219-e766-88aded9dfa04"
      },
      "source": [
        "#Data Preprocessing Sample Codes\n",
        "'''\n",
        "import cv2\n",
        "#resize\n",
        "img = cv2.resize(img, (229,229))\n",
        "\n",
        "#to grayscale\n",
        "img = cv2.cvtColor(img, cv2.COLOR_BGR2GRAY)\n",
        "\n",
        "\n",
        "# horizontal flip\n",
        "img = cv2.flip(img, 0) \n",
        "\n",
        "#gaussian blurring\n",
        "from scipy import ndimage\n",
        "img = ndimage.gaussian_filter(img, sigma= 5.11)\n",
        "\n",
        "#histogram equalization\n",
        "def hist(img):\n",
        "  img_to_yuv = cv2.cvtColor(img,cv2.COLOR_BGR2YUV)\n",
        "  img_to_yuv[:,:,0] = cv2.equalizeHist(img_to_yuv[:,:,0])\n",
        "  hist_equalization_result = cv2.cvtColor(img_to_yuv, cv2.COLOR_YUV2BGR)\n",
        "  return hist_equalization_result\n",
        "\n",
        "#rotation\n",
        "import random\n",
        "def rotation(img):\n",
        "  rows,cols = img.shape[0],img.shape[1]\n",
        "  randDeg = random.randint(-180, 180)\n",
        "  matrix = cv2.getRotationMatrix2D((cols/2, rows/2), randDeg, 0.70)\n",
        "  rotated = cv2.warpAffine(img, matrix, (rows, cols), borderMode=cv2.BORDER_CONSTANT,borderValue=(144, 159, 162))\n",
        "  return rotated   \n",
        "\n",
        "#translation\n",
        "img = cv2.warpAffine(img, np.float32([[1, 0, 84], [0, 1, 56]]), (img.shape[0], img.shape[1]),\n",
        "borderMode=cv2.BORDER_CONSTANT,borderValue=(144, 159, 162))\n",
        "'''"
      ],
      "execution_count": 24,
      "outputs": [
        {
          "output_type": "execute_result",
          "data": {
            "application/vnd.google.colaboratory.intrinsic+json": {
              "type": "string"
            },
            "text/plain": [
              "'\\nimport cv2\\n#resize\\nimg = cv2.resize(img, (229,229))\\n\\n#to grayscale\\nimg = cv2.cvtColor(img, cv2.COLOR_BGR2GRAY)\\n\\n\\n# horizontal flip\\nimg = cv2.flip(img, 0) \\n\\n#gaussian blurring\\nfrom scipy import ndimage\\nimg = ndimage.gaussian_filter(img, sigma= 5.11)\\n\\n#histogram equalization\\ndef hist(img):\\n  img_to_yuv = cv2.cvtColor(img,cv2.COLOR_BGR2YUV)\\n  img_to_yuv[:,:,0] = cv2.equalizeHist(img_to_yuv[:,:,0])\\n  hist_equalization_result = cv2.cvtColor(img_to_yuv, cv2.COLOR_YUV2BGR)\\n  return hist_equalization_result\\n\\n#rotation\\nimport random\\ndef rotation(img):\\n  rows,cols = img.shape[0],img.shape[1]\\n  randDeg = random.randint(-180, 180)\\n  matrix = cv2.getRotationMatrix2D((cols/2, rows/2), randDeg, 0.70)\\n  rotated = cv2.warpAffine(img, matrix, (rows, cols), borderMode=cv2.BORDER_CONSTANT,borderValue=(144, 159, 162))\\n  return rotated   \\n\\n#translation\\nimg = cv2.warpAffine(img, np.float32([[1, 0, 84], [0, 1, 56]]), (img.shape[0], img.shape[1]),\\nborderMode=cv2.BORDER_CONSTANT,borderValue=(144, 159, 162))\\n'"
            ]
          },
          "metadata": {
            "tags": []
          },
          "execution_count": 24
        }
      ]
    },
    {
      "cell_type": "code",
      "metadata": {
        "id": "C6VY7lMNuMER"
      },
      "source": [
        "#SVM sample code fitting as classifier\n",
        "svm = SVC(kernel='rbf')\n",
        "svm.fit(feat_train,np.argmax(y_train,axis=1))\n",
        "\n",
        "svm.score(feat_test,np.argmax(y_test,axis=1))"
      ],
      "execution_count": null,
      "outputs": []
    },
    {
      "cell_type": "code",
      "metadata": {
        "id": "V-iUjBRmuM9U"
      },
      "source": [
        "#Decision Tree Classifier sample \n",
        "dt = DecisionTreeClassifier(criterion = \"entropy\", random_state = 100,max_depth=3, min_samples_leaf=5)\n",
        "dt.fit(feat_train,np.argmax(y_train,axis=1))\n",
        "\n",
        "dt.score(feat_test,np.argmax(y_test,axis=1))"
      ],
      "execution_count": null,
      "outputs": []
    },
    {
      "cell_type": "code",
      "metadata": {
        "id": "1GOqhdQDus2Q"
      },
      "source": [
        "#KNN Sample\n",
        "\n",
        "knn = KNeighborsClassifier(n_neighbors=12)\n",
        "knn.fit(feat_train,np.argmax(y_train,axis=-1))\n",
        "\n",
        "knn.score(feat_test,np.argmax(y_test,axis=1))"
      ],
      "execution_count": null,
      "outputs": []
    },
    {
      "cell_type": "code",
      "metadata": {
        "id": "0IXkrqrGu36P"
      },
      "source": [
        "#ANN Sample\n",
        "\n",
        "model_ann = Sequential()\n",
        "model_ann.add(Dense(16, input_shape=X_train.shape[1:], activation='relu'))\n",
        "model_ann.add(Dropout(0.4))\n",
        "model_ann.add(Dense(32, activation='relu'))\n",
        "model_ann.add(Dropout(0.6))\n",
        "model_ann.add(Flatten())\n",
        "model_ann.add(Dense(2, activation='softmax'))\n",
        "\n",
        "model_ann.compile(loss='binary_crossentropy', optimizer='adam', metrics=['accuracy'])\n",
        "\n",
        "history = model_ann.fit(X_train, y_train,epochs=100,batch_size=100)\n",
        "history"
      ],
      "execution_count": null,
      "outputs": []
    },
    {
      "cell_type": "code",
      "metadata": {
        "id": "jnmnY0cnvMqW"
      },
      "source": [
        "#CNN Sample \n",
        "\n",
        "model = Sequential()\n",
        "model.add(Conv2D(16,(5,5),padding='valid',input_shape = X_train.shape[1:]))\n",
        "model.add(Activation('relu'))\n",
        "model.add(MaxPooling2D(pool_size=(2,2),strides=2,padding = 'valid'))\n",
        "model.add(Dropout(0.4))\n",
        "model.add(Conv2D(32,(5,5),padding='valid'))\n",
        "model.add(Activation('relu'))\n",
        "model.add(MaxPooling2D(pool_size=(2,2),strides=2,padding = 'valid'))\n",
        "model.add(Dropout(0.6))\n",
        "model.add(Conv2D(64,(5,5),padding='valid'))\n",
        "model.add(Activation('relu'))\n",
        "model.add(Dropout(0.8))\n",
        "model.add(Flatten())\n",
        "model.add(Dense(2))\n",
        "model.add(Activation('softmax'))\n",
        "\n",
        "batch_size = 100\n",
        "epochs= 100\n",
        "\n",
        "optimizer = keras.optimizers.rmsprop(lr = 0.0001, decay = 1e-6)\n",
        "\n",
        "model.compile(loss = 'binary_crossentropy',optimizer = optimizer, metrics = ['accuracy',keras_metrics.precision(), keras_metrics.recall()])\n",
        "\n",
        "history = model.fit(X_train,y_train,steps_per_epoch = int(len(X_train)/batch_size),epochs=epochs)\n",
        "history"
      ],
      "execution_count": null,
      "outputs": []
    }
  ]
}