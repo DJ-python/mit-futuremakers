{
 "cells": [
  {
   "cell_type": "code",
   "execution_count": 2,
   "id": "ccafbabb",
   "metadata": {},
   "outputs": [],
   "source": [
    "import pandas as pd\n",
    "\n",
    "white = pd.read_csv(\"http://archive.ics.uci.edu/ml/machine-learning-databases/wine-quality/winequality-white.csv\", sep=';')\n",
    "red = pd.read_csv(\"http://archive.ics.uci.edu/ml/machine-learning-databases/wine-quality/winequality-red.csv\", sep=';')"
   ]
  },
  {
   "cell_type": "code",
   "execution_count": 6,
   "id": "5e908539",
   "metadata": {},
   "outputs": [
    {
     "name": "stdout",
     "output_type": "stream",
     "text": [
      "<class 'pandas.core.frame.DataFrame'>\n",
      "RangeIndex: 4898 entries, 0 to 4897\n",
      "Data columns (total 12 columns):\n",
      " #   Column                Non-Null Count  Dtype  \n",
      "---  ------                --------------  -----  \n",
      " 0   fixed acidity         4898 non-null   float64\n",
      " 1   volatile acidity      4898 non-null   float64\n",
      " 2   citric acid           4898 non-null   float64\n",
      " 3   residual sugar        4898 non-null   float64\n",
      " 4   chlorides             4898 non-null   float64\n",
      " 5   free sulfur dioxide   4898 non-null   float64\n",
      " 6   total sulfur dioxide  4898 non-null   float64\n",
      " 7   density               4898 non-null   float64\n",
      " 8   pH                    4898 non-null   float64\n",
      " 9   sulphates             4898 non-null   float64\n",
      " 10  alcohol               4898 non-null   float64\n",
      " 11  quality               4898 non-null   int64  \n",
      "dtypes: float64(11), int64(1)\n",
      "memory usage: 459.3 KB\n"
     ]
    }
   ],
   "source": [
    "#to examine data: .head(), .tail(), .sample(), .describe(), .info(), .isnull()\n",
    "white.info()"
   ]
  },
  {
   "cell_type": "code",
   "execution_count": 7,
   "id": "908783da",
   "metadata": {},
   "outputs": [
    {
     "name": "stdout",
     "output_type": "stream",
     "text": [
      "(array([  0,   7, 673, 452, 305, 133,  21,   8], dtype=int64), array([ 7,  8,  9, 10, 11, 12, 13, 14, 15]))\n",
      "(array([   0,  317, 1606, 1256,  906,  675,  131,    7], dtype=int64), array([ 7,  8,  9, 10, 11, 12, 13, 14, 15]))\n"
     ]
    }
   ],
   "source": [
    "#visualization\n",
    "import numpy as np\n",
    "print(np.histogram(red.alcohol, bins=[7,8,9,10,11,12,13,14,15]))\n",
    "print(np.histogram(white.alcohol, bins=[7,8,9,10,11,12,13,14,15]))"
   ]
  },
  {
   "cell_type": "code",
   "execution_count": 8,
   "id": "efd943d0",
   "metadata": {},
   "outputs": [],
   "source": [
    "red['type'] = 1 \n",
    "white['type'] = 0\n",
    "wines = red.append(white, ignore_index=True)"
   ]
  },
  {
   "cell_type": "code",
   "execution_count": 10,
   "id": "b4923a87",
   "metadata": {},
   "outputs": [],
   "source": [
    "from sklearn.model_selection import train_test_split\n",
    "\n",
    "# Specify the data \n",
    "X=wines.iloc[:,0:11]\n",
    "\n",
    "# Specify the target labels and flatten the array \n",
    "y=np.ravel(wines.type)\n",
    "\n",
    "# Split the data up in train and test sets\n",
    "X_train, X_test, y_train, y_test = train_test_split(X, y, test_size=0.33, random_state=42)"
   ]
  },
  {
   "cell_type": "code",
   "execution_count": 11,
   "id": "08c1c70e",
   "metadata": {},
   "outputs": [],
   "source": [
    "#standardization\n",
    "from sklearn.preprocessing import StandardScaler\n",
    "\n",
    "scaler = StandardScaler().fit(X_train)\n",
    "\n",
    "X_train = scaler.transform(X_train)\n",
    "X_test = scaler.transform(X_test)"
   ]
  },
  {
   "cell_type": "code",
   "execution_count": 12,
   "id": "58f921d3",
   "metadata": {},
   "outputs": [],
   "source": [
    "# Import `Sequential` from `keras.models`\n",
    "from keras.models import Sequential\n",
    "\n",
    "# Import `Dense` from `keras.layers`\n",
    "from keras.layers import Dense\n",
    "\n",
    "# Initialize the constructor\n",
    "model = Sequential()\n",
    "\n",
    "# Add an input layer \n",
    "model.add(Dense(12, activation='relu', input_shape=(11,)))\n",
    "\n",
    "# Add one hidden layer \n",
    "model.add(Dense(8, activation='relu'))\n",
    "\n",
    "# Add an output layer \n",
    "model.add(Dense(1, activation='sigmoid'))"
   ]
  },
  {
   "cell_type": "code",
   "execution_count": 13,
   "id": "42579e49",
   "metadata": {},
   "outputs": [
    {
     "name": "stdout",
     "output_type": "stream",
     "text": [
      "Epoch 1/20\n",
      "4352/4352 [==============================] - 18s 1ms/step - loss: 0.3175 - accuracy: 0.8734\n",
      "Epoch 2/20\n",
      "4352/4352 [==============================] - 4s 1ms/step - loss: 0.0192 - accuracy: 0.9966\n",
      "Epoch 3/20\n",
      "4352/4352 [==============================] - 4s 1ms/step - loss: 0.0164 - accuracy: 0.9979\n",
      "Epoch 4/20\n",
      "4352/4352 [==============================] - 5s 1ms/step - loss: 0.0257 - accuracy: 0.9947\n",
      "Epoch 5/20\n",
      "4352/4352 [==============================] - 5s 1ms/step - loss: 0.0139 - accuracy: 0.9968\n",
      "Epoch 6/20\n",
      "4352/4352 [==============================] - 4s 983us/step - loss: 0.0163 - accuracy: 0.9966\n",
      "Epoch 7/20\n",
      "4352/4352 [==============================] - 4s 986us/step - loss: 0.0147 - accuracy: 0.9973\n",
      "Epoch 8/20\n",
      "4352/4352 [==============================] - 4s 941us/step - loss: 0.0149 - accuracy: 0.9970\n",
      "Epoch 9/20\n",
      "4352/4352 [==============================] - 4s 1ms/step - loss: 0.0099 - accuracy: 0.9981\n",
      "Epoch 10/20\n",
      "4352/4352 [==============================] - 4s 1ms/step - loss: 0.0129 - accuracy: 0.9970\n",
      "Epoch 11/20\n",
      "4352/4352 [==============================] - 4s 1ms/step - loss: 0.0142 - accuracy: 0.9972\n",
      "Epoch 12/20\n",
      "4352/4352 [==============================] - 4s 999us/step - loss: 0.0162 - accuracy: 0.9967\n",
      "Epoch 13/20\n",
      "4352/4352 [==============================] - 5s 1ms/step - loss: 0.0158 - accuracy: 0.9973\n",
      "Epoch 14/20\n",
      "4352/4352 [==============================] - 4s 975us/step - loss: 0.0104 - accuracy: 0.9977\n",
      "Epoch 15/20\n",
      "4352/4352 [==============================] - 4s 983us/step - loss: 0.0086 - accuracy: 0.9985\n",
      "Epoch 16/20\n",
      "4352/4352 [==============================] - 4s 1ms/step - loss: 0.0111 - accuracy: 0.9971\n",
      "Epoch 17/20\n",
      "4352/4352 [==============================] - 5s 1ms/step - loss: 0.0144 - accuracy: 0.9968\n",
      "Epoch 18/20\n",
      "4352/4352 [==============================] - 5s 1ms/step - loss: 0.0103 - accuracy: 0.9973\n",
      "Epoch 19/20\n",
      "4352/4352 [==============================] - 5s 1ms/step - loss: 0.0092 - accuracy: 0.9974\n",
      "Epoch 20/20\n",
      "4352/4352 [==============================] - 5s 1ms/step - loss: 0.0122 - accuracy: 0.9972\n"
     ]
    },
    {
     "data": {
      "text/plain": [
       "<keras.callbacks.History at 0x18965d6ac10>"
      ]
     },
     "execution_count": 13,
     "metadata": {},
     "output_type": "execute_result"
    }
   ],
   "source": [
    "model.compile(loss='binary_crossentropy',\n",
    "              optimizer='adam',\n",
    "              metrics=['accuracy'])\n",
    "                   \n",
    "model.fit(X_train, y_train,epochs=20, batch_size=1, verbose=1)"
   ]
  },
  {
   "cell_type": "code",
   "execution_count": 14,
   "id": "1fec5e6d",
   "metadata": {},
   "outputs": [],
   "source": [
    "y_pred = model.predict(X_test)"
   ]
  },
  {
   "cell_type": "code",
   "execution_count": 21,
   "id": "1f91d640",
   "metadata": {},
   "outputs": [
    {
     "data": {
      "text/plain": [
       "array([0, 1, 0, 0, 0], dtype=int64)"
      ]
     },
     "execution_count": 21,
     "metadata": {},
     "output_type": "execute_result"
    }
   ],
   "source": [
    "#y_pred[:5]\n",
    "y_test[:5]"
   ]
  },
  {
   "cell_type": "code",
   "execution_count": 19,
   "id": "bdd90b03",
   "metadata": {},
   "outputs": [
    {
     "name": "stdout",
     "output_type": "stream",
     "text": [
      "68/68 [==============================] - 1s 1ms/step - loss: 0.0279 - accuracy: 0.9949\n",
      "[0.027893556281924248, 0.9948717951774597]\n"
     ]
    }
   ],
   "source": [
    "#evaluate - prints loss and accuracy\n",
    "score = model.evaluate(X_test, y_test,verbose=1)\n",
    "\n",
    "print(score)"
   ]
  },
  {
   "cell_type": "code",
   "execution_count": 23,
   "id": "5b926136",
   "metadata": {},
   "outputs": [],
   "source": [
    "#evaluate further with these\n",
    "from sklearn.metrics import confusion_matrix, precision_score, recall_score, f1_score, cohen_kappa_score\n",
    "#confusion_matrix(y_test, y_pred)"
   ]
  },
  {
   "cell_type": "code",
   "execution_count": null,
   "id": "5328b361",
   "metadata": {},
   "outputs": [],
   "source": []
  }
 ],
 "metadata": {
  "kernelspec": {
   "display_name": "Python 3",
   "language": "python",
   "name": "python3"
  },
  "language_info": {
   "codemirror_mode": {
    "name": "ipython",
    "version": 3
   },
   "file_extension": ".py",
   "mimetype": "text/x-python",
   "name": "python",
   "nbconvert_exporter": "python",
   "pygments_lexer": "ipython3",
   "version": "3.8.8"
  }
 },
 "nbformat": 4,
 "nbformat_minor": 5
}
